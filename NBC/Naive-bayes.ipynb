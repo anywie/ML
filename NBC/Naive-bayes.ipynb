{
 "cells": [
  {
   "cell_type": "markdown",
   "id": "ff57446f",
   "metadata": {},
   "source": [
    "**Наивный бaйесовский классификaтор** "
   ]
  },
  {
   "cell_type": "code",
   "execution_count": 1,
   "id": "8ce7e99f",
   "metadata": {},
   "outputs": [
    {
     "name": "stdout",
     "output_type": "stream",
     "text": [
      "    User ID  Gender  Age  EstimatedSalary  Purchased\n",
      "0  15624510    Male   19            19000          0\n",
      "1  15810944    Male   35            20000          0\n",
      "2  15668575  Female   26            43000          0\n",
      "3  15603246  Female   27            57000          0\n",
      "4  15804002    Male   19            76000          0\n"
     ]
    }
   ],
   "source": [
    "import pandas as pd\n",
    "\n",
    "data = pd.read_csv('Social_Network_Ads.csv')\n",
    "\n",
    "print(data.head())"
   ]
  },
  {
   "cell_type": "code",
   "execution_count": 2,
   "id": "27e008e8",
   "metadata": {},
   "outputs": [],
   "source": [
    "y = list(map(lambda v: 'yes' if v == 1 else 'no', data['Purchased'].values))\n",
    "\n",
    "X = data[['Gender', 'Age', 'EstimatedSalary']].values"
   ]
  },
  {
   "cell_type": "code",
   "execution_count": 3,
   "id": "bda3ad57",
   "metadata": {},
   "outputs": [],
   "source": [
    "y_train = y[:300]\n",
    "y_val = y[300:]\n",
    "\n",
    "X_train = X[:300]\n",
    "X_val = X[300:]"
   ]
  },
  {
   "cell_type": "code",
   "execution_count": 4,
   "id": "59772c03",
   "metadata": {},
   "outputs": [],
   "source": [
    "N = len(X_train)\n",
    "dim = len(X_train[0])\n",
    "attrs = [[] for _ in range(dim)]\n",
    "output_dom = {}\n",
    "data = []\n",
    "\n",
    "def init():\n",
    "    for i in range(len(X_train)):\n",
    "            for j in range(dim):\n",
    "                if not X_train[i][j] in attrs[j]:\n",
    "                    attrs[j].append(X_train[i][j]) \n",
    "            if not y_train[i] in output_dom.keys():\n",
    "                output_dom[y_train[i]] = 1\n",
    "            else:\n",
    "                output_dom[y_train[i]] += 1\n",
    "            data.append([X_train[i], y_train[i]])\n",
    "        \n",
    "\n",
    "def classify(entry):\n",
    "        solve = None\n",
    "        max_arg = -1\n",
    "        for y in output_dom.keys():\n",
    "            prob = output_dom[y]/N\n",
    "            for i in range(dim):\n",
    "                cases = [x for x in data if x[0][i] == entry[i] and x[1] == y] # all rows with Xi = xi\n",
    "                n = len(cases)\n",
    "                prob *= n/N\n",
    "            if prob > max_arg:\n",
    "                max_arg = prob\n",
    "                solve = y\n",
    "        return solve"
   ]
  },
  {
   "cell_type": "code",
   "execution_count": 5,
   "id": "2c21efb6",
   "metadata": {},
   "outputs": [],
   "source": [
    "init()"
   ]
  },
  {
   "cell_type": "code",
   "execution_count": 6,
   "id": "8b4d2b1f",
   "metadata": {},
   "outputs": [],
   "source": [
    "total_cases = len(y_val)\n",
    "right = 0"
   ]
  },
  {
   "cell_type": "code",
   "execution_count": 7,
   "id": "51e24d61",
   "metadata": {},
   "outputs": [],
   "source": [
    "for i in range(total_cases):\n",
    "    predict = classify(X_val[i])\n",
    "    if y_val[i] == predict:\n",
    "        right += 1"
   ]
  },
  {
   "cell_type": "code",
   "execution_count": 8,
   "id": "549690d5",
   "metadata": {},
   "outputs": [
    {
     "name": "stdout",
     "output_type": "stream",
     "text": [
      "Accuracy: 0.52\n"
     ]
    }
   ],
   "source": [
    "print('Accuracy:', right/total_cases)"
   ]
  },
  {
   "cell_type": "code",
   "execution_count": 9,
   "id": "4d00770e",
   "metadata": {},
   "outputs": [],
   "source": [
    "## sklearn\n",
    "dataset = pd.read_csv('Social_Network_Ads.csv')\n",
    "dataset.head()\n",
    "X = dataset.iloc[:, [2, 3]].values\n",
    "y = dataset.iloc[:, 4].values\n",
    "\n",
    "from sklearn.model_selection import train_test_split\n",
    "X_train, X_test, y_train, y_test = train_test_split(X, y, test_size = 0.25, random_state = 0)"
   ]
  },
  {
   "cell_type": "code",
   "execution_count": 10,
   "id": "8492b340",
   "metadata": {},
   "outputs": [
    {
     "name": "stdout",
     "output_type": "stream",
     "text": [
      "[0 0 0 0 0 0 0 1 0 1 0 0 0 0 0 0 0 0 1 0 0 1 0 1 0 1 0 0 0 0 0 0 1 0 0 0 0\n",
      " 0 0 1 0 0 0 0 1 0 0 1 0 1 1 0 0 1 1 0 0 0 1 0 0 1 0 0 0 1 0 0 0 0 1 0 0 0\n",
      " 0 0 0 0 1 1 1 1 0 0 1 0 0 1 0 0 0 1 0 0 0 0 0 1 1 1]\n"
     ]
    }
   ],
   "source": [
    "from sklearn.preprocessing import StandardScaler\n",
    "sc = StandardScaler()\n",
    "X_train = sc.fit_transform(X_train)\n",
    "X_test = sc.transform(X_test)\n",
    "\n",
    "from sklearn.naive_bayes import GaussianNB\n",
    "classifier = GaussianNB()\n",
    "classifier.fit(X_train, y_train)\n",
    "\n",
    "y_pred = classifier.predict(X_test)\n",
    "print(y_pred)"
   ]
  },
  {
   "cell_type": "code",
   "execution_count": 11,
   "id": "28a32038",
   "metadata": {},
   "outputs": [
    {
     "name": "stdout",
     "output_type": "stream",
     "text": [
      "Accuracy: 0.9\n"
     ]
    }
   ],
   "source": [
    "from sklearn.metrics import accuracy_score\n",
    "print('Accuracy:', accuracy_score(y_test, y_pred))"
   ]
  }
 ],
 "metadata": {
  "kernelspec": {
   "display_name": "Python 3",
   "language": "python",
   "name": "python3"
  },
  "language_info": {
   "codemirror_mode": {
    "name": "ipython",
    "version": 3
   },
   "file_extension": ".py",
   "mimetype": "text/x-python",
   "name": "python",
   "nbconvert_exporter": "python",
   "pygments_lexer": "ipython3",
   "version": "3.8.8"
  }
 },
 "nbformat": 4,
 "nbformat_minor": 5
}
